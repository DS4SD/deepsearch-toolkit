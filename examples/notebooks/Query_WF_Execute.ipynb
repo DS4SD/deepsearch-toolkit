{
 "cells": [
  {
   "cell_type": "code",
   "execution_count": 1,
   "id": "c6cb0ac4",
   "metadata": {},
   "outputs": [],
   "source": [
    "from dataclasses import asdict\n",
    "import json\n",
    "\n",
    "from IPython.display import display, Markdown\n",
    "import pandas as pd\n",
    "\n",
    "import urllib3\n",
    "urllib3.disable_warnings(urllib3.exceptions.InsecureRequestWarning)"
   ]
  },
  {
   "cell_type": "code",
   "execution_count": 2,
   "id": "6a1e12a1",
   "metadata": {},
   "outputs": [],
   "source": [
    "from deepsearch.cps.client.queries import Query\n",
    "\n",
    "from deepsearch.core.client import DeepSearchKeyAuth, DeepSearchConfig\n",
    "from deepsearch.cps.client.api import CpsApi, CpsApiClient"
   ]
  },
  {
   "cell_type": "markdown",
   "id": "ab528f7d",
   "metadata": {},
   "source": [
    "## CPS Authentication"
   ]
  },
  {
   "cell_type": "code",
   "execution_count": 3,
   "id": "5d7b330f",
   "metadata": {},
   "outputs": [],
   "source": [
    "auth_filename = \"cps-auth.json\" # this file should be populated with the credentials\n",
    "auth_data = json.load(open(auth_filename))\n",
    "\n",
    "auth = DeepSearchKeyAuth(\n",
    "    username=auth_data[\"email\"],\n",
    "    api_key=auth_data[\"api_key\"],\n",
    ")\n",
    "\n",
    "config = DeepSearchConfig(\n",
    "    host=\"https://cps.foc-deepsearch.zurich.ibm.com\", # IBM internal system\n",
    "    auth=auth,\n",
    ")\n",
    "\n",
    "client = CpsApiClient(config)\n",
    "api = CpsApi(client)"
   ]
  },
  {
   "cell_type": "markdown",
   "id": "e1c85f8d",
   "metadata": {},
   "source": [
    "## Select KG"
   ]
  },
  {
   "cell_type": "code",
   "execution_count": 4,
   "id": "2fd4e9ff",
   "metadata": {},
   "outputs": [],
   "source": [
    "# Select KG\n",
    "kg = api.knowledge_graphs.get(\n",
    "    \"f21574fe745fa0b8213cb08d0c4166513108158c\", # proj_key\n",
    "    \"80511ed4a524fe446dc102e704fd7577f2c2a26c\", # bag_key\n",
    ")"
   ]
  },
  {
   "cell_type": "markdown",
   "id": "d7c6c667",
   "metadata": {},
   "source": [
    "## Load the WF query\n",
    "\n",
    "The file `./workflows/keywords_from_category.json` was created from the code snippet generated in the CPS UI."
   ]
  },
  {
   "cell_type": "code",
   "execution_count": 5,
   "id": "7a71ddcb",
   "metadata": {
    "scrolled": false
   },
   "outputs": [],
   "source": [
    "query_filename = './workflows/keywords_from_category.json'\n",
    "wf_query = json.load(open(query_filename))\n",
    "\n",
    "query = Query()\n",
    "wf = query.add(\n",
    "    \"Workflow\",\n",
    "    parameters={\n",
    "        \"workflow\": wf_query['template']\n",
    "    },\n",
    "    coordinates=kg\n",
    ")\n",
    "\n",
    "for k, spec in wf_query.get('outputs', {}).items():\n",
    "    wf.output(k).output_as(spec['name'])"
   ]
  },
  {
   "cell_type": "markdown",
   "id": "63afab36",
   "metadata": {},
   "source": [
    "## Execute and print results"
   ]
  },
  {
   "cell_type": "code",
   "execution_count": 6,
   "id": "09c81c48",
   "metadata": {},
   "outputs": [
    {
     "name": "stdout",
     "output_type": "stream",
     "text": [
      "CPU times: user 24.1 ms, sys: 6.14 ms, total: 30.2 ms\n",
      "Wall time: 545 ms\n"
     ]
    }
   ],
   "source": [
    "%%time\n",
    "# Execute\n",
    "result = api.queries.run(query)"
   ]
  },
  {
   "cell_type": "code",
   "execution_count": 7,
   "id": "cfdced1e",
   "metadata": {
    "scrolled": false
   },
   "outputs": [
    {
     "name": "stdout",
     "output_type": "stream",
     "text": [
      "Query execution took 0.14111201278865337 sec\n"
     ]
    }
   ],
   "source": [
    "# Timings\n",
    "print('Query execution took', result.timings.overall, 'sec')"
   ]
  },
  {
   "cell_type": "code",
   "execution_count": 8,
   "id": "d5629f3c",
   "metadata": {
    "scrolled": false
   },
   "outputs": [
    {
     "data": {
      "text/markdown": [
       "## Output 'keyphrases'"
      ],
      "text/plain": [
       "<IPython.core.display.Markdown object>"
      ]
     },
     "metadata": {},
     "output_type": "display_data"
    },
    {
     "data": {
      "text/html": [
       "<div>\n",
       "<style scoped>\n",
       "    .dataframe tbody tr th:only-of-type {\n",
       "        vertical-align: middle;\n",
       "    }\n",
       "\n",
       "    .dataframe tbody tr th {\n",
       "        vertical-align: top;\n",
       "    }\n",
       "\n",
       "    .dataframe thead th {\n",
       "        text-align: right;\n",
       "    }\n",
       "</style>\n",
       "<table border=\"1\" class=\"dataframe\">\n",
       "  <thead>\n",
       "    <tr style=\"text-align: right;\">\n",
       "      <th></th>\n",
       "      <th>_categories</th>\n",
       "      <th>_db</th>\n",
       "      <th>_hash</th>\n",
       "      <th>_id</th>\n",
       "      <th>_name</th>\n",
       "      <th>_synonyms</th>\n",
       "      <th>index</th>\n",
       "      <th>weight</th>\n",
       "    </tr>\n",
       "  </thead>\n",
       "  <tbody>\n",
       "    <tr>\n",
       "      <th>0</th>\n",
       "      <td>[key-phrases]</td>\n",
       "      <td>6650739843425458168</td>\n",
       "      <td>e13cfc4b2b4f22fefaa2e7f0302d2af8</td>\n",
       "      <td>617fca9aa4557eb20cdb0c6f</td>\n",
       "      <td>challenge</td>\n",
       "      <td>[challenge]</td>\n",
       "      <td>215396</td>\n",
       "      <td>154</td>\n",
       "    </tr>\n",
       "    <tr>\n",
       "      <th>1</th>\n",
       "      <td>[key-phrases]</td>\n",
       "      <td>6650739843425458168</td>\n",
       "      <td>9f8972945e41640618a0691137f367be</td>\n",
       "      <td>617fca96fcf995f4a3497520</td>\n",
       "      <td>text</td>\n",
       "      <td>[text]</td>\n",
       "      <td>211746</td>\n",
       "      <td>134</td>\n",
       "    </tr>\n",
       "    <tr>\n",
       "      <th>2</th>\n",
       "      <td>[key-phrases]</td>\n",
       "      <td>6650739843425458168</td>\n",
       "      <td>e460f5c2530cb8541a08694e94e38200</td>\n",
       "      <td>617fca9718c78284f1a4f699</td>\n",
       "      <td>data</td>\n",
       "      <td>[data]</td>\n",
       "      <td>212193</td>\n",
       "      <td>108</td>\n",
       "    </tr>\n",
       "    <tr>\n",
       "      <th>3</th>\n",
       "      <td>[key-phrases]</td>\n",
       "      <td>6650739843425458168</td>\n",
       "      <td>2d85965fa308000804b75ebf759d6bff</td>\n",
       "      <td>617fca98dff425e9629a1a08</td>\n",
       "      <td>models</td>\n",
       "      <td>[models]</td>\n",
       "      <td>212879</td>\n",
       "      <td>102</td>\n",
       "    </tr>\n",
       "    <tr>\n",
       "      <th>4</th>\n",
       "      <td>[key-phrases]</td>\n",
       "      <td>6650739843425458168</td>\n",
       "      <td>49aea03140d0938a54b25104b6ae38ed</td>\n",
       "      <td>617fca99fa0ff72c11494587</td>\n",
       "      <td>work</td>\n",
       "      <td>[work]</td>\n",
       "      <td>214361</td>\n",
       "      <td>98</td>\n",
       "    </tr>\n",
       "    <tr>\n",
       "      <th>...</th>\n",
       "      <td>...</td>\n",
       "      <td>...</td>\n",
       "      <td>...</td>\n",
       "      <td>...</td>\n",
       "      <td>...</td>\n",
       "      <td>...</td>\n",
       "      <td>...</td>\n",
       "      <td>...</td>\n",
       "    </tr>\n",
       "    <tr>\n",
       "      <th>1019</th>\n",
       "      <td>[key-phrases]</td>\n",
       "      <td>6650739843425458168</td>\n",
       "      <td>d051cad28025f24444d537c4cb0d917e</td>\n",
       "      <td>617fca9a9d5607e5295b0b9c</td>\n",
       "      <td>manner</td>\n",
       "      <td>[manner]</td>\n",
       "      <td>215386</td>\n",
       "      <td>3</td>\n",
       "    </tr>\n",
       "    <tr>\n",
       "      <th>1020</th>\n",
       "      <td>[key-phrases]</td>\n",
       "      <td>6650739843425458168</td>\n",
       "      <td>3903ab6f758f2372d313ad2d03a0bef0</td>\n",
       "      <td>617fca9a1164905d91924c48</td>\n",
       "      <td>number</td>\n",
       "      <td>[number]</td>\n",
       "      <td>215435</td>\n",
       "      <td>3</td>\n",
       "    </tr>\n",
       "    <tr>\n",
       "      <th>1021</th>\n",
       "      <td>[key-phrases]</td>\n",
       "      <td>6650739843425458168</td>\n",
       "      <td>e597d05511968cecc99f31713d0d8a7c</td>\n",
       "      <td>617fca9aa4557eb20cdb0c75</td>\n",
       "      <td>explanations</td>\n",
       "      <td>[explanations]</td>\n",
       "      <td>215582</td>\n",
       "      <td>3</td>\n",
       "    </tr>\n",
       "    <tr>\n",
       "      <th>1022</th>\n",
       "      <td>[key-phrases]</td>\n",
       "      <td>6650739843425458168</td>\n",
       "      <td>89bd252e86ee4bb3106f0fec74a7bc32</td>\n",
       "      <td>617fca9a8b0915e5eca531c9</td>\n",
       "      <td>textual entailment</td>\n",
       "      <td>[textual entailment]</td>\n",
       "      <td>215605</td>\n",
       "      <td>3</td>\n",
       "    </tr>\n",
       "    <tr>\n",
       "      <th>1023</th>\n",
       "      <td>[key-phrases]</td>\n",
       "      <td>6650739843425458168</td>\n",
       "      <td>0f03f0849074a54fa947fc80adf9f741</td>\n",
       "      <td>617fca9ad4f1605890b3e747</td>\n",
       "      <td>instances</td>\n",
       "      <td>[instances]</td>\n",
       "      <td>215684</td>\n",
       "      <td>3</td>\n",
       "    </tr>\n",
       "  </tbody>\n",
       "</table>\n",
       "<p>1024 rows × 8 columns</p>\n",
       "</div>"
      ],
      "text/plain": [
       "        _categories                  _db                             _hash  \\\n",
       "0     [key-phrases]  6650739843425458168  e13cfc4b2b4f22fefaa2e7f0302d2af8   \n",
       "1     [key-phrases]  6650739843425458168  9f8972945e41640618a0691137f367be   \n",
       "2     [key-phrases]  6650739843425458168  e460f5c2530cb8541a08694e94e38200   \n",
       "3     [key-phrases]  6650739843425458168  2d85965fa308000804b75ebf759d6bff   \n",
       "4     [key-phrases]  6650739843425458168  49aea03140d0938a54b25104b6ae38ed   \n",
       "...             ...                  ...                               ...   \n",
       "1019  [key-phrases]  6650739843425458168  d051cad28025f24444d537c4cb0d917e   \n",
       "1020  [key-phrases]  6650739843425458168  3903ab6f758f2372d313ad2d03a0bef0   \n",
       "1021  [key-phrases]  6650739843425458168  e597d05511968cecc99f31713d0d8a7c   \n",
       "1022  [key-phrases]  6650739843425458168  89bd252e86ee4bb3106f0fec74a7bc32   \n",
       "1023  [key-phrases]  6650739843425458168  0f03f0849074a54fa947fc80adf9f741   \n",
       "\n",
       "                           _id               _name             _synonyms  \\\n",
       "0     617fca9aa4557eb20cdb0c6f           challenge           [challenge]   \n",
       "1     617fca96fcf995f4a3497520                text                [text]   \n",
       "2     617fca9718c78284f1a4f699                data                [data]   \n",
       "3     617fca98dff425e9629a1a08              models              [models]   \n",
       "4     617fca99fa0ff72c11494587                work                [work]   \n",
       "...                        ...                 ...                   ...   \n",
       "1019  617fca9a9d5607e5295b0b9c              manner              [manner]   \n",
       "1020  617fca9a1164905d91924c48              number              [number]   \n",
       "1021  617fca9aa4557eb20cdb0c75        explanations        [explanations]   \n",
       "1022  617fca9a8b0915e5eca531c9  textual entailment  [textual entailment]   \n",
       "1023  617fca9ad4f1605890b3e747           instances           [instances]   \n",
       "\n",
       "       index  weight  \n",
       "0     215396     154  \n",
       "1     211746     134  \n",
       "2     212193     108  \n",
       "3     212879     102  \n",
       "4     214361      98  \n",
       "...      ...     ...  \n",
       "1019  215386       3  \n",
       "1020  215435       3  \n",
       "1021  215582       3  \n",
       "1022  215605       3  \n",
       "1023  215684       3  \n",
       "\n",
       "[1024 rows x 8 columns]"
      ]
     },
     "metadata": {},
     "output_type": "display_data"
    }
   ],
   "source": [
    "# Visualize the outputs as table\n",
    "for name, output in result.outputs.items():\n",
    "    df = pd.json_normalize(output)\n",
    "    display(Markdown(f\"## Output '{name}'\"))\n",
    "    display(df)"
   ]
  },
  {
   "cell_type": "code",
   "execution_count": null,
   "id": "4577c715",
   "metadata": {},
   "outputs": [],
   "source": []
  },
  {
   "cell_type": "code",
   "execution_count": null,
   "id": "993859df",
   "metadata": {},
   "outputs": [],
   "source": []
  }
 ],
 "metadata": {
  "kernelspec": {
   "display_name": "Python 3 (ipykernel)",
   "language": "python",
   "name": "python3"
  },
  "language_info": {
   "codemirror_mode": {
    "name": "ipython",
    "version": 3
   },
   "file_extension": ".py",
   "mimetype": "text/x-python",
   "name": "python",
   "nbconvert_exporter": "python",
   "pygments_lexer": "ipython3",
   "version": "3.10.2"
  }
 },
 "nbformat": 4,
 "nbformat_minor": 5
}
