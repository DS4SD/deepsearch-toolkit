{
 "cells": [
  {
   "cell_type": "markdown",
   "metadata": {},
   "source": [
    "# Example Jupyter Notebook for CPS\n",
    "\n",
    "Welcome to the example Jupyter Notebook for CPS.\n",
    "In this notebook you will be guided through the steps needed to setup the connection to CPS, select your Knowledge Graph and make some example queries.\n",
    "\n",
    "Navigate all examples notebooks:\n",
    "- [/examples/notebooks](./)\n",
    "\n",
    "**⚠️⚠️ Disclaimer ⚠️⚠️**: Notebooks executed on the CPS FoC system are **not persistent**. This means that your session will be completely reset once restarted. Please remember to download your modified notebooks locally to restore your work at a later point."
   ]
  },
  {
   "cell_type": "code",
   "execution_count": null,
   "metadata": {},
   "outputs": [],
   "source": [
    "import os\n",
    "import urllib3\n",
    "urllib3.disable_warnings(urllib3.exceptions.InsecureRequestWarning)\n",
    "\n",
    "from IPython.display import display, Markdown\n",
    "import pandas as pd\n",
    "\n",
    "import deepsearch.cps.ipython\n",
    "from deepsearch.core.client import DeepSearchBearerTokenAuth, DeepSearchConfig\n",
    "from deepsearch.cps.client.api import CpsApi, CpsApiClient, DeepSearchConfig\n",
    "from deepsearch.cps.ipython.kg_widgets import KGSelector\n",
    "\n",
    "from deepsearch.cps.client.queries import Query"
   ]
  },
  {
   "cell_type": "markdown",
   "metadata": {},
   "source": [
    "### Initialized CPS integration in Notebooks\n",
    "This section will authenticate the user to CPS"
   ]
  },
  {
   "cell_type": "code",
   "execution_count": null,
   "metadata": {},
   "outputs": [],
   "source": [
    "config = DeepSearchConfig(\n",
    "    host=os.getenv(\"CPS_URL\"),\n",
    "    auth=DeepSearchBearerTokenAuth(bearer_token=os.getenv(\"CPS_ACCESS_TOKEN\")),\n",
    "    verify_ssl=False,\n",
    ")\n",
    "\n",
    "client = CpsApiClient(config)\n",
    "api = CpsApi(client)\n",
    "\n",
    "print('Connected to:', client.config.host)"
   ]
  },
  {
   "cell_type": "markdown",
   "metadata": {},
   "source": [
    "### Select the KG\n",
    "Use the interactive components to select the KG you want to use"
   ]
  },
  {
   "cell_type": "code",
   "execution_count": null,
   "metadata": {
    "scrolled": false
   },
   "outputs": [],
   "source": [
    "selector = KGSelector(api)\n",
    "kg = selector.interactive()"
   ]
  },
  {
   "cell_type": "markdown",
   "metadata": {},
   "source": [
    "## KG Queries"
   ]
  },
  {
   "cell_type": "markdown",
   "metadata": {},
   "source": [
    "### Query the KG details"
   ]
  },
  {
   "cell_type": "code",
   "execution_count": null,
   "metadata": {
    "scrolled": false
   },
   "outputs": [],
   "source": [
    "# Get KG topoogy\n",
    "topo_resp = kg.get_topology()\n",
    "\n",
    "topo_nodes = [\n",
    "    {\n",
    "        'name': node['name'],\n",
    "        'size': node['size'],\n",
    "    }\n",
    "    for i, node in enumerate(topo_resp['nodes']['categories'])\n",
    "]\n",
    "\n",
    "topo_edges = [\n",
    "    {\n",
    "        'name': edge['name'],\n",
    "        'source': edge['categories']['source'],\n",
    "        'target': edge['categories']['target'],\n",
    "        'size': edge['matrix']['NNZ'],\n",
    "    }\n",
    "    for i, edge in enumerate(topo_resp['edges'])\n",
    "]\n",
    "\n",
    "\n",
    "# Print \n",
    "display(Markdown('**Nodes**'), pd.json_normalize(topo_nodes))\n",
    "display(Markdown('**Edges**'), pd.json_normalize(topo_edges))\n",
    "\n",
    "# Output the visual KG topology\n",
    "# display_kg_topology(kg)"
   ]
  },
  {
   "cell_type": "markdown",
   "metadata": {},
   "source": [
    "### Build a query workflow and run"
   ]
  },
  {
   "cell_type": "code",
   "execution_count": null,
   "metadata": {},
   "outputs": [],
   "source": [
    "query = Query()\n",
    "\n",
    "# build here your query (see examples in SDK documentation)\n",
    "\n",
    "# For debug: print the whole query\n",
    "#print(json.dumps(query.to_flow(), indent=2))"
   ]
  },
  {
   "cell_type": "code",
   "execution_count": null,
   "metadata": {},
   "outputs": [],
   "source": [
    "# Execute the query\n",
    "result = api.queries.run(query)\n",
    "\n",
    "# Visualize the outputs as table\n",
    "for name, output in result.outputs.items():\n",
    "    display(Markdown(f\"## Output '{name}'\"))\n",
    "    display(pd.json_normalize(output))"
   ]
  },
  {
   "cell_type": "code",
   "execution_count": null,
   "metadata": {},
   "outputs": [],
   "source": []
  }
 ],
 "metadata": {
  "kernelspec": {
   "display_name": "Python 3 (ipykernel)",
   "language": "python",
   "name": "python3"
  },
  "language_info": {
   "codemirror_mode": {
    "name": "ipython",
    "version": 3
   },
   "file_extension": ".py",
   "mimetype": "text/x-python",
   "name": "python",
   "nbconvert_exporter": "python",
   "pygments_lexer": "ipython3",
   "version": "3.8.6"
  }
 },
 "nbformat": 4,
 "nbformat_minor": 4
}
