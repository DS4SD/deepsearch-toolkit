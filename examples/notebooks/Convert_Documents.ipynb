{
 "cells": [
  {
   "cell_type": "code",
   "execution_count": 1,
   "id": "502cdef8",
   "metadata": {
    "ExecuteTime": {
     "end_time": "2022-07-08T12:39:30.099439Z",
     "start_time": "2022-07-08T12:39:29.667563Z"
    }
   },
   "outputs": [],
   "source": [
    "import json\n",
    "import deepsearch as ds"
   ]
  },
  {
   "cell_type": "markdown",
   "id": "0431ea2c",
   "metadata": {},
   "source": [
    "## Authentication\n",
    "\n",
    "In this example, we initialize the Deep Search client from the credentials\n",
    "contained in the file `cps-auth.json`."
   ]
  },
  {
   "cell_type": "code",
   "execution_count": 2,
   "id": "0e5d3ca1",
   "metadata": {
    "ExecuteTime": {
     "end_time": "2022-07-08T12:39:30.102380Z",
     "start_time": "2022-07-08T12:39:30.102367Z"
    }
   },
   "outputs": [],
   "source": [
    "auth_filename = \"cps-auth.json\" # this file should be populated with the credentials\n",
    "auth_data = json.load(open(auth_filename))\n",
    "\n",
    "auth = ds.DeepSearchKeyAuth(\n",
    "    username=auth_data[\"email\"],\n",
    "    api_key=auth_data[\"api_key\"],\n",
    ")\n",
    "\n",
    "config = ds.DeepSearchConfig(\n",
    "    # the host of the Deep Search instance you are using\n",
    "    host=\"https://deepsearch-experience.res.ibm.com\",\n",
    "\n",
    "    # if needed, the validation of the SSL certificate can be avoided\n",
    "    # verify_ssl=True, \n",
    "\n",
    "    # auth credentials\n",
    "    auth=auth,\n",
    ")\n",
    "\n",
    "client = ds.CpsApiClient(config)\n",
    "api = ds.CpsApi(client)"
   ]
  },
  {
   "cell_type": "markdown",
   "id": "5f09bbd4",
   "metadata": {},
   "source": [
    "## Convert your first file\n",
    "\n",
    "\n",
    "In the next block we convert our first document. As an input, we use a URL to a PDF file.\n"
   ]
  },
  {
   "cell_type": "code",
   "execution_count": 3,
   "id": "c61d9bdb",
   "metadata": {
    "ExecuteTime": {
     "end_time": "2022-07-08T12:39:30.106950Z",
     "start_time": "2022-07-08T12:39:30.106931Z"
    }
   },
   "outputs": [
    {
     "name": "stderr",
     "output_type": "stream",
     "text": [
      "Submitting input:   : 100%|█████████████████████████████████████████████████████████████████████████████████████████████| 1/1 [00:01<00:00,  1.39s/it]\n",
      "Converting input:   : 100%|█████████████████████████████████████████████████████████████████████████████████████████████| 1/1 [00:24<00:00, 24.76s/it]\n"
     ]
    }
   ],
   "source": [
    "PROJ_KEY=\"1234567890abcdefghijklmnopqrstvwyz123456\"\n",
    "documents = ds.convert_documents(api=api, \n",
    "                                 proj_key=PROJ_KEY, \n",
    "                                 urls=\"https://arxiv.org/pdf/2206.00785.pdf\", \n",
    "                                 progress_bar=True)"
   ]
  },
  {
   "cell_type": "code",
   "execution_count": 4,
   "id": "2dc1847e",
   "metadata": {
    "ExecuteTime": {
     "end_time": "2022-07-08T12:39:30.112887Z",
     "start_time": "2022-07-08T12:39:30.112868Z"
    }
   },
   "outputs": [
    {
     "name": "stderr",
     "output_type": "stream",
     "text": [
      "Downloading result: 100%|███████████████████████████████████████████████████████████████████████████████████████████████| 1/1 [00:01<00:00,  1.13s/it]\n"
     ]
    }
   ],
   "source": [
    "# We can now work with the returned object.\n",
    "\n",
    "# let's download all the converted documents:\n",
    "result_dir = './result_dir'\n",
    "documents.download_all(result_dir=result_dir,progress_bar=True)"
   ]
  },
  {
   "cell_type": "code",
   "execution_count": 5,
   "id": "7d0053cd",
   "metadata": {
    "ExecuteTime": {
     "end_time": "2022-07-08T12:39:30.115072Z",
     "start_time": "2022-07-08T12:39:30.115017Z"
    }
   },
   "outputs": [
    {
     "name": "stdout",
     "output_type": "stream",
     "text": [
      "{'Total online documents': 1, 'Successfully converted documents': 1}\n"
     ]
    }
   ],
   "source": [
    "# We can also generate report about the conversion task:\n",
    "info = documents.generate_report(result_dir=result_dir)\n",
    "print(info)"
   ]
  },
  {
   "cell_type": "markdown",
   "id": "535456af",
   "metadata": {},
   "source": [
    "## More convert options\n",
    "\n",
    "The Deep Search toolkit provides helper functions which can convert documents from different type of inputs.\n",
    "\n",
    "- From a single url\n",
    "- From a list of urls. In this case, the toolkit will launch a batch processing with all tasks.\n",
    "- From a local PDF file\n",
    "- From a local zip archive containing PDF files.\n",
    "- From a local local folder containing PDF files. In this case, the toolkit is packaging the files into batches and creates multiple zip archives.\n"
   ]
  },
  {
   "cell_type": "code",
   "execution_count": 6,
   "id": "7126c7b1",
   "metadata": {
    "ExecuteTime": {
     "end_time": "2022-07-08T12:39:30.119069Z",
     "start_time": "2022-07-08T12:39:30.119043Z"
    }
   },
   "outputs": [
    {
     "name": "stderr",
     "output_type": "stream",
     "text": [
      "Submitting input:   : 100%|█████████████████████████████████████████████████████████████████████████████████████████████| 2/2 [00:01<00:00,  1.44it/s]\n",
      "Converting input:   : 100%|█████████████████████████████████████████████████████████████████████████████████████████████| 2/2 [00:53<00:00, 26.56s/it]\n"
     ]
    }
   ],
   "source": [
    "# Process multiple urls\n",
    "\n",
    "PROJ_KEY=\"1234567890abcdefghijklmnopqrstvwyz123456\"\n",
    "documents = ds.convert_documents(api=api, \n",
    "                                 proj_key=PROJ_KEY, \n",
    "                                 urls=[\"https://arxiv.org/pdf/2206.00785.pdf\", \"https://arxiv.org/pdf/2206.01062.pdf\"], \n",
    "                                 progress_bar=True)"
   ]
  },
  {
   "cell_type": "code",
   "execution_count": 7,
   "id": "e630e1e3",
   "metadata": {
    "ExecuteTime": {
     "end_time": "2022-07-08T12:39:30.120996Z",
     "start_time": "2022-07-08T12:39:30.120980Z"
    }
   },
   "outputs": [
    {
     "name": "stderr",
     "output_type": "stream",
     "text": [
      "Downloading result: 100%|███████████████████████████████████████████████████████████████████████████████████████████████| 1/1 [00:01<00:00,  1.14s/it]\n",
      "Downloading result: 100%|███████████████████████████████████████████████████████████████████████████████████████████████| 1/1 [00:01<00:00,  1.05s/it]\n"
     ]
    }
   ],
   "source": [
    "# as before we can use the documents object to download all jsons. We can also iterate over them individually.\n",
    "for doc in documents:\n",
    "    #get url of converted document:\n",
    "    url_json = doc.url_json\n",
    "    #download individual json:\n",
    "    doc.download(result_dir=result_dir,progress_bar=True)"
   ]
  },
  {
   "cell_type": "code",
   "execution_count": 8,
   "id": "72a81849",
   "metadata": {
    "ExecuteTime": {
     "end_time": "2022-07-08T12:39:30.123510Z",
     "start_time": "2022-07-08T12:39:30.123492Z"
    }
   },
   "outputs": [
    {
     "name": "stderr",
     "output_type": "stream",
     "text": [
      "Processing input:   : 100%|████████████████████████████████████████████████████████████████████████████████████████████| 1/1 [00:00<00:00, 136.54it/s]\n",
      "Submitting input:   : 100%|█████████████████████████████████████████████████████████████████████████████████████████████| 1/1 [00:02<00:00,  2.99s/it]\n",
      "Converting input:   : 100%|█████████████████████████████████████████████████████████████████████████████████████████████| 1/1 [00:26<00:00, 26.87s/it]\n"
     ]
    }
   ],
   "source": [
    "# Process local file\n",
    "\n",
    "PROJ_KEY=\"1234567890abcdefghijklmnopqrstvwyz123456\"\n",
    "documents = ds.convert_documents(api=api, \n",
    "                                 proj_key=PROJ_KEY, \n",
    "                                 source_path=\"/Users/mis/Downloads/IEEE_CLOUD_2022_paper_20.pdf\", \n",
    "                                 progress_bar=True)"
   ]
  },
  {
   "cell_type": "code",
   "execution_count": 9,
   "id": "7dc33e5d",
   "metadata": {
    "ExecuteTime": {
     "end_time": "2022-07-08T12:39:30.125849Z",
     "start_time": "2022-07-08T12:39:30.125831Z"
    }
   },
   "outputs": [
    {
     "name": "stderr",
     "output_type": "stream",
     "text": [
      "Processing input:   : 100%|█████████████████████████████████████████████████████████████████████████████████████████████| 2/2 [00:00<00:00, 53.08it/s]\n",
      "Submitting input:   : 100%|█████████████████████████████████████████████████████████████████████████████████████████████| 2/2 [00:06<00:00,  3.35s/it]\n",
      "Converting input:   : 100%|█████████████████████████████████████████████████████████████████████████████████████████████| 2/2 [00:33<00:00, 16.67s/it]\n"
     ]
    }
   ],
   "source": [
    "# Process folder of files\n",
    "\n",
    "PROJ_KEY=\"1234567890abcdefghijklmnopqrstvwyz123456\"\n",
    "documents = ds.convert_documents(api=api, \n",
    "                                 proj_key=PROJ_KEY, \n",
    "                                 source_path=\"/Users/mis/LM/Documents/pdf_docs/test/\", \n",
    "                                 progress_bar=True)"
   ]
  },
  {
   "cell_type": "code",
   "execution_count": 10,
   "id": "03d11356",
   "metadata": {
    "ExecuteTime": {
     "end_time": "2022-07-08T12:39:30.128755Z",
     "start_time": "2022-07-08T12:39:30.128731Z"
    }
   },
   "outputs": [
    {
     "name": "stdout",
     "output_type": "stream",
     "text": [
      "{'Total files (pdf+zip)': 3, 'Total batches': 2, 'Successfully converted batches': 2}\n"
     ]
    }
   ],
   "source": [
    "info = documents.generate_report(result_dir)\n",
    "print(info)"
   ]
  },
  {
   "cell_type": "code",
   "execution_count": null,
   "id": "192ea2e7",
   "metadata": {},
   "outputs": [],
   "source": []
  },
  {
   "cell_type": "code",
   "execution_count": null,
   "id": "e7c95bea",
   "metadata": {},
   "outputs": [],
   "source": []
  }
 ],
 "metadata": {
  "kernelspec": {
   "display_name": "Python 3 (ipykernel)",
   "language": "python",
   "name": "python3"
  },
  "language_info": {
   "codemirror_mode": {
    "name": "ipython",
    "version": 3
   },
   "file_extension": ".py",
   "mimetype": "text/x-python",
   "name": "python",
   "nbconvert_exporter": "python",
   "pygments_lexer": "ipython3",
   "version": "3.9.7"
  },
  "toc": {
   "base_numbering": 1,
   "nav_menu": {},
   "number_sections": true,
   "sideBar": true,
   "skip_h1_title": false,
   "title_cell": "Table of Contents",
   "title_sidebar": "Contents",
   "toc_cell": false,
   "toc_position": {},
   "toc_section_display": true,
   "toc_window_display": false
  }
 },
 "nbformat": 4,
 "nbformat_minor": 5
}
