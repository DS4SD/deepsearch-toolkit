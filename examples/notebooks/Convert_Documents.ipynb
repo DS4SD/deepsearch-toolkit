{
 "cells": [
  {
   "cell_type": "code",
   "execution_count": 2,
   "id": "502cdef8",
   "metadata": {
    "ExecuteTime": {
     "end_time": "2022-07-08T12:39:30.099439Z",
     "start_time": "2022-07-08T12:39:29.667563Z"
    }
   },
   "outputs": [],
   "source": [
    "import json\n",
    "import deepsearch as ds"
   ]
  },
  {
   "cell_type": "markdown",
   "id": "37d96e78",
   "metadata": {},
   "source": [
    "# IBM Deep Search Document Conversion\n",
    "# Minimum Working Example"
   ]
  },
  {
   "cell_type": "markdown",
   "id": "a33aec07",
   "metadata": {},
   "source": [
    "The [Deep Search Toolkit](https://ds4sd.github.io/deepsearch-toolkit/) allows document conversion with the following few lines of code. It's that simple! For more info or step-by-step guide:\n",
    "- Visit https://ds4sd.github.io/deepsearch-toolkit/guide/convert_doc/\n",
    "- Follow this example notebook"
   ]
  },
  {
   "cell_type": "code",
   "execution_count": null,
   "id": "ec83eb0b",
   "metadata": {},
   "outputs": [],
   "source": [
    "host = \"https://deepsearch-experience.res.ibm.com\"\n",
    "proj = \"1234567890abcdefghijklmnopqrstvwyz123456\"\n",
    "\n",
    "username = \"<fill-in-your-username>\"\n",
    "api_key = \"<fill-in-your-api-key>\"\n",
    "\n",
    "auth = ds.DeepSearchKeyAuth(username=username, api_key=api_key)\n",
    "config = ds.DeepSearchConfig(host=host, auth=auth)\n",
    "client = ds.CpsApiClient(config)\n",
    "api = ds.CpsApi(client)\n",
    "\n",
    "documents = ds.convert_documents(api=api, \n",
    "                                 proj_key=proj, \n",
    "                                 source_path=<path-to-file>, \n",
    "                                 progress_bar=True)                                                                  \n",
    "info = documents.generate_report(result_dir=\"./converted_docs\")\n",
    "print(info)              \n",
    "\n",
    "documents.download_all(result_dir=\"./converted_docs\")"
   ]
  },
  {
   "cell_type": "code",
   "execution_count": null,
   "id": "4a489ba8",
   "metadata": {},
   "outputs": [],
   "source": []
  },
  {
   "cell_type": "markdown",
   "id": "c80e69d5",
   "metadata": {},
   "source": [
    "---"
   ]
  },
  {
   "cell_type": "markdown",
   "id": "0a260ef5",
   "metadata": {},
   "source": [
    "# There's more! \n",
    "\n",
    "The Deep Search Toolkit provides utility functions which can convert documents from different type of inputs.\n",
    "\n",
    "- From a single url\n",
    "- From a list of urls. In this case, the toolkit will launch a batch processing with all tasks.\n",
    "- From a local PDF file\n",
    "- From a local zip archive containing PDF files.\n",
    "- From a local folder containing PDF files. In this case, the toolkit is packaging the files into batches and creates multiple zip archives.\n"
   ]
  },
  {
   "cell_type": "markdown",
   "id": "3a68eebf",
   "metadata": {},
   "source": [
    "---"
   ]
  },
  {
   "cell_type": "markdown",
   "id": "4c1e020c",
   "metadata": {},
   "source": [
    "# Let's explore document conversion"
   ]
  },
  {
   "cell_type": "markdown",
   "id": "0431ea2c",
   "metadata": {},
   "source": [
    "### Authentication via stored credentials\n",
    "\n",
    "In this example, we initialize the Deep Search client from the credentials\n",
    "contained in the file `cps-auth.json`. See example [here](https://github.com/DS4SD/deepsearch-toolkit/blob/main/examples/notebooks/cps-auth.example.json)"
   ]
  },
  {
   "cell_type": "code",
   "execution_count": 3,
   "id": "0e5d3ca1",
   "metadata": {
    "ExecuteTime": {
     "end_time": "2022-07-08T12:39:30.102380Z",
     "start_time": "2022-07-08T12:39:30.102367Z"
    }
   },
   "outputs": [],
   "source": [
    "auth_filename = \"cps-auth.json\" # this file should be populated with the credentials\n",
    "auth_data = json.load(open(auth_filename))\n",
    "\n",
    "auth = ds.DeepSearchKeyAuth(\n",
    "    username=auth_data[\"email\"],\n",
    "    api_key=auth_data[\"api_key\"],\n",
    ")\n",
    "\n",
    "config = ds.DeepSearchConfig(\n",
    "    # the host of the Deep Search instance you are using\n",
    "    host=\"https://deepsearch-experience.res.ibm.com\",\n",
    "\n",
    "    # if needed, the validation of the SSL certificate can be avoided\n",
    "    # verify_ssl=True, \n",
    "\n",
    "    # auth credentials\n",
    "    auth=auth,\n",
    ")\n",
    "\n",
    "client = ds.CpsApiClient(config)\n",
    "api = ds.CpsApi(client)"
   ]
  },
  {
   "cell_type": "code",
   "execution_count": 4,
   "id": "3e1af5bd",
   "metadata": {},
   "outputs": [],
   "source": [
    "PROJ_KEY=\"1234567890abcdefghijklmnopqrstvwyz123456\""
   ]
  },
  {
   "cell_type": "markdown",
   "id": "5f09bbd4",
   "metadata": {},
   "source": [
    "## Single URL"
   ]
  },
  {
   "cell_type": "code",
   "execution_count": 5,
   "id": "c61d9bdb",
   "metadata": {
    "ExecuteTime": {
     "end_time": "2022-07-08T12:39:30.106950Z",
     "start_time": "2022-07-08T12:39:30.106931Z"
    },
    "scrolled": true
   },
   "outputs": [
    {
     "name": "stderr",
     "output_type": "stream",
     "text": [
      "Submitting input:   : 100%|█████████████████████████████████████████████████████████████████████████████████████████████| 1/1 [00:01<00:00,  1.60s/it]\n",
      "Converting input:   : 100%|█████████████████████████████████████████████████████████████████████████████████████████████| 1/1 [00:38<00:00, 38.83s/it]\n"
     ]
    }
   ],
   "source": [
    "documents = ds.convert_documents(api=api, \n",
    "                                 proj_key=PROJ_KEY, \n",
    "                                 urls=\"https://arxiv.org/pdf/2206.00785.pdf\", \n",
    "                                 progress_bar=True)"
   ]
  },
  {
   "cell_type": "code",
   "execution_count": 7,
   "id": "5fa4a03a",
   "metadata": {
    "ExecuteTime": {
     "end_time": "2022-07-08T12:39:30.115072Z",
     "start_time": "2022-07-08T12:39:30.115017Z"
    }
   },
   "outputs": [
    {
     "name": "stdout",
     "output_type": "stream",
     "text": [
      "{'Total online documents': 1, 'Successfully converted documents': 1}\n"
     ]
    }
   ],
   "source": [
    "# Let's check what happened. \n",
    "# We generate a csv report about the conversion task and store it locally\n",
    "result_dir = './converted_docs/'\n",
    "info = documents.generate_report(result_dir=result_dir)\n",
    "print(info)"
   ]
  },
  {
   "cell_type": "markdown",
   "id": "baa95ea2",
   "metadata": {},
   "source": [
    "The saved report will help in debugging and analysing the conversion task"
   ]
  },
  {
   "cell_type": "code",
   "execution_count": 8,
   "id": "2dc1847e",
   "metadata": {
    "ExecuteTime": {
     "end_time": "2022-07-08T12:39:30.112887Z",
     "start_time": "2022-07-08T12:39:30.112868Z"
    }
   },
   "outputs": [
    {
     "name": "stderr",
     "output_type": "stream",
     "text": [
      "Downloading result: 100%|███████████████████████████████████████████████████████████████████████████████████████████████| 1/1 [00:01<00:00,  1.96s/it]\n"
     ]
    }
   ],
   "source": [
    "# let's download all the converted documents:\n",
    "documents.download_all(result_dir=result_dir,progress_bar=True)"
   ]
  },
  {
   "cell_type": "code",
   "execution_count": 10,
   "id": "6445e62f",
   "metadata": {},
   "outputs": [
    {
     "data": {
      "text/plain": [
       "(['SUCCESS'], ['532fc2ed-efea-41b5-8b94-1d1f74677381'])"
      ]
     },
     "execution_count": 10,
     "metadata": {},
     "output_type": "execute_result"
    }
   ],
   "source": [
    "# the documents object stores some additional info like:\n",
    "documents.statuses, documents.task_ids"
   ]
  },
  {
   "cell_type": "markdown",
   "id": "3fa1b5b5",
   "metadata": {},
   "source": [
    "## Multiple URLs"
   ]
  },
  {
   "cell_type": "code",
   "execution_count": 12,
   "id": "5f3d6475",
   "metadata": {},
   "outputs": [],
   "source": [
    "# let's create a list of urls we want to convert:\n",
    "urls = [\"https://arxiv.org/pdf/2206.00785.pdf\", \"https://arxiv.org/pdf/2206.01062.pdf\"]"
   ]
  },
  {
   "cell_type": "code",
   "execution_count": 13,
   "id": "7126c7b1",
   "metadata": {
    "ExecuteTime": {
     "end_time": "2022-07-08T12:39:30.119069Z",
     "start_time": "2022-07-08T12:39:30.119043Z"
    }
   },
   "outputs": [
    {
     "name": "stderr",
     "output_type": "stream",
     "text": [
      "Submitting input:   : 100%|█████████████████████████████████████████████████████████████████████████████████████████████| 2/2 [00:01<00:00,  1.20it/s]\n",
      "Converting input:   : 100%|█████████████████████████████████████████████████████████████████████████████████████████████| 2/2 [01:06<00:00, 33.43s/it]\n"
     ]
    }
   ],
   "source": [
    "# Process multiple urls\n",
    "documents = ds.convert_documents(api=api, \n",
    "                                 proj_key=PROJ_KEY, \n",
    "                                 urls= urls, \n",
    "                                 progress_bar=True)"
   ]
  },
  {
   "cell_type": "code",
   "execution_count": 14,
   "id": "e630e1e3",
   "metadata": {
    "ExecuteTime": {
     "end_time": "2022-07-08T12:39:30.120996Z",
     "start_time": "2022-07-08T12:39:30.120980Z"
    }
   },
   "outputs": [
    {
     "name": "stderr",
     "output_type": "stream",
     "text": [
      "Downloading result: 100%|███████████████████████████████████████████████████████████████████████████████████████████████| 1/1 [00:01<00:00,  1.27s/it]\n",
      "Downloading result: 100%|███████████████████████████████████████████████████████████████████████████████████████████████| 1/1 [00:01<00:00,  1.16s/it]\n"
     ]
    }
   ],
   "source": [
    "# as before we can use the documents object to download all jsons. We can also iterate over them individually.\n",
    "for doc in documents:\n",
    "    doc.download(result_dir=result_dir,progress_bar=True)"
   ]
  },
  {
   "cell_type": "markdown",
   "id": "1fd6724c",
   "metadata": {},
   "source": [
    "## Process local file"
   ]
  },
  {
   "cell_type": "code",
   "execution_count": 17,
   "id": "72a81849",
   "metadata": {
    "ExecuteTime": {
     "end_time": "2022-07-08T12:39:30.123510Z",
     "start_time": "2022-07-08T12:39:30.123492Z"
    }
   },
   "outputs": [
    {
     "name": "stderr",
     "output_type": "stream",
     "text": [
      "Processing input:   : 100%|████████████████████████████████████████████████████████████████████████████████████████████| 1/1 [00:00<00:00, 150.28it/s]\n",
      "Submitting input:   : 100%|█████████████████████████████████████████████████████████████████████████████████████████████| 1/1 [00:05<00:00,  5.30s/it]\n",
      "Converting input:   : 100%|█████████████████████████████████████████████████████████████████████████████████████████████| 1/1 [00:39<00:00, 39.49s/it]\n"
     ]
    }
   ],
   "source": [
    "documents = ds.convert_documents(api=api, \n",
    "                                 proj_key=PROJ_KEY, \n",
    "                                 source_path=\"/Users/mis/Downloads/IEEE_CLOUD_2022_paper_20.pdf\", \n",
    "                                 progress_bar=True)"
   ]
  },
  {
   "cell_type": "markdown",
   "id": "37f668da",
   "metadata": {},
   "source": [
    "# Process folder of files"
   ]
  },
  {
   "cell_type": "code",
   "execution_count": 18,
   "id": "7dc33e5d",
   "metadata": {
    "ExecuteTime": {
     "end_time": "2022-07-08T12:39:30.125849Z",
     "start_time": "2022-07-08T12:39:30.125831Z"
    }
   },
   "outputs": [
    {
     "name": "stderr",
     "output_type": "stream",
     "text": [
      "Processing input:   : 100%|█████████████████████████████████████████████████████████████████████████████████████████████| 2/2 [00:00<00:00, 57.62it/s]\n",
      "Submitting input:   : 100%|█████████████████████████████████████████████████████████████████████████████████████████████| 2/2 [00:07<00:00,  3.63s/it]\n",
      "Converting input:   : 100%|█████████████████████████████████████████████████████████████████████████████████████████████| 2/2 [00:51<00:00, 25.83s/it]\n"
     ]
    }
   ],
   "source": [
    "documents = ds.convert_documents(api=api, \n",
    "                                 proj_key=PROJ_KEY, \n",
    "                                 source_path=\"/Users/mis/LM/Documents/pdf_docs/test/\", \n",
    "                                 progress_bar=True)"
   ]
  },
  {
   "cell_type": "code",
   "execution_count": 19,
   "id": "03d11356",
   "metadata": {
    "ExecuteTime": {
     "end_time": "2022-07-08T12:39:30.128755Z",
     "start_time": "2022-07-08T12:39:30.128731Z"
    }
   },
   "outputs": [
    {
     "name": "stdout",
     "output_type": "stream",
     "text": [
      "{'Total files (pdf+zip)': 3, 'Total batches': 2, 'Successfully converted batches': 2}\n"
     ]
    }
   ],
   "source": [
    "info = documents.generate_report(result_dir)\n",
    "print(info)"
   ]
  },
  {
   "cell_type": "code",
   "execution_count": 20,
   "id": "192ea2e7",
   "metadata": {},
   "outputs": [
    {
     "name": "stderr",
     "output_type": "stream",
     "text": [
      "Downloading result: 100%|███████████████████████████████████████████████████████████████████████████████████████████████| 3/3 [00:03<00:00,  1.07s/it]\n"
     ]
    }
   ],
   "source": [
    "# let's download all the converted documents:\n",
    "documents.download_all(result_dir=result_dir,progress_bar=True)"
   ]
  },
  {
   "cell_type": "code",
   "execution_count": null,
   "id": "e7c95bea",
   "metadata": {},
   "outputs": [],
   "source": []
  }
 ],
 "metadata": {
  "kernelspec": {
   "display_name": "Python 3 (ipykernel)",
   "language": "python",
   "name": "python3"
  },
  "language_info": {
   "codemirror_mode": {
    "name": "ipython",
    "version": 3
   },
   "file_extension": ".py",
   "mimetype": "text/x-python",
   "name": "python",
   "nbconvert_exporter": "python",
   "pygments_lexer": "ipython3",
   "version": "3.9.7"
  },
  "toc": {
   "base_numbering": 1,
   "nav_menu": {},
   "number_sections": true,
   "sideBar": true,
   "skip_h1_title": false,
   "title_cell": "Table of Contents",
   "title_sidebar": "Contents",
   "toc_cell": false,
   "toc_position": {},
   "toc_section_display": true,
   "toc_window_display": false
  }
 },
 "nbformat": 4,
 "nbformat_minor": 5
}
