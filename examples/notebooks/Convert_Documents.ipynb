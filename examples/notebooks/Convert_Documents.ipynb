{
 "cells": [
  {
   "cell_type": "code",
   "execution_count": 2,
   "id": "502cdef8",
   "metadata": {
    "ExecuteTime": {
     "end_time": "2022-07-08T08:09:41.766778Z",
     "start_time": "2022-07-08T08:09:41.559152Z"
    }
   },
   "outputs": [],
   "source": [
    "import json\n",
    "import deepsearch as ds"
   ]
  },
  {
   "cell_type": "markdown",
   "id": "0431ea2c",
   "metadata": {},
   "source": [
    "## Authentication\n",
    "\n",
    "In this example, we initialize the Deep Search client from the credentials\n",
    "contained in the file `cps-auth.json`."
   ]
  },
  {
   "cell_type": "code",
   "execution_count": null,
   "id": "0e5d3ca1",
   "metadata": {
    "ExecuteTime": {
     "end_time": "2022-07-08T08:04:49.513734Z",
     "start_time": "2022-07-08T08:04:44.023887Z"
    }
   },
   "outputs": [],
   "source": [
    "auth_filename = \"cps-auth.json\" # this file should be populated with the credentials\n",
    "auth_data = json.load(open(auth_filename))\n",
    "\n",
    "auth = ds.DeepSearchKeyAuth(\n",
    "    username=auth_data[\"email\"],\n",
    "    api_key=auth_data[\"api_key\"],\n",
    ")\n",
    "\n",
    "config = ds.DeepSearchConfig(\n",
    "    # the host of the Deep Search instance you are using\n",
    "    host=\"https://deepsearch-experience.res.ibm.com\",\n",
    "\n",
    "    # if needed, the validation of the SSL certificate can be avoided\n",
    "    # verify_ssl=True, \n",
    "\n",
    "    # auth credentials\n",
    "    auth=auth,\n",
    ")\n",
    "\n",
    "client = ds.CpsApiClient(config)\n",
    "api = ds.CpsApi(client)"
   ]
  },
  {
   "cell_type": "markdown",
   "id": "5f09bbd4",
   "metadata": {},
   "source": [
    "## Convert your first file\n",
    "\n",
    "\n",
    "In the next block we convert our first document. As an input, we use a URL to a PDF file.\n"
   ]
  },
  {
   "cell_type": "code",
   "execution_count": 5,
   "id": "c61d9bdb",
   "metadata": {
    "ExecuteTime": {
     "end_time": "2022-07-08T08:10:28.422342Z",
     "start_time": "2022-07-08T08:09:50.756243Z"
    }
   },
   "outputs": [
    {
     "name": "stderr",
     "output_type": "stream",
     "text": [
      "Submitting input:   : 100%|███████████████████████| 1/1 [00:01<00:00,  1.02s/it]\n",
      "Converting input:   : 100%|███████████████████████| 1/1 [00:36<00:00, 36.36s/it]\n"
     ]
    }
   ],
   "source": [
    "PROJ_KEY=\"1234567890abcdefghijklmnopqrstvwyz123456\"\n",
    "documents = ds.convert_documents(api=api, \n",
    "                                 proj_key=PROJ_KEY, \n",
    "                                 urls=\"https://arxiv.org/pdf/2206.00785.pdf\", \n",
    "                                 progress_bar=True)"
   ]
  },
  {
   "cell_type": "code",
   "execution_count": 6,
   "id": "2dc1847e",
   "metadata": {
    "ExecuteTime": {
     "end_time": "2022-07-08T08:10:29.239221Z",
     "start_time": "2022-07-08T08:10:28.425630Z"
    }
   },
   "outputs": [
    {
     "name": "stderr",
     "output_type": "stream",
     "text": [
      "Downloading result: 100%|█████████████████████████| 1/1 [00:00<00:00,  4.17it/s]\n"
     ]
    }
   ],
   "source": [
    "# We can now work with the returned object.\n",
    "\n",
    "# let's download all the converted documents:\n",
    "result_dir = './result_dir'\n",
    "documents.download_all(result_dir=result_dir,progress_bar=True)"
   ]
  },
  {
   "cell_type": "code",
   "execution_count": 7,
   "id": "7d0053cd",
   "metadata": {
    "ExecuteTime": {
     "end_time": "2022-07-08T08:10:29.248261Z",
     "start_time": "2022-07-08T08:10:29.242113Z"
    }
   },
   "outputs": [
    {
     "name": "stdout",
     "output_type": "stream",
     "text": [
      "{'Total online documents': 1, 'Successfully converted documents': 1}\n"
     ]
    }
   ],
   "source": [
    "# We can also generate report about the conversion task:\n",
    "info = documents.generate_report(result_dir=result_dir)\n",
    "print(info)"
   ]
  },
  {
   "cell_type": "markdown",
   "id": "535456af",
   "metadata": {},
   "source": [
    "## More convert options\n",
    "\n",
    "The Deep Search toolkit provides helper functions which can convert documents from different type of inputs.\n",
    "\n",
    "- From a single url\n",
    "- From a list of urls. In this case, the toolkit will launch a batch processing with all tasks.\n",
    "- From a local PDF file\n",
    "- From a local zip archive containing PDF files.\n",
    "- From a local local folder containing PDF files. In this case, the toolkit is packaging the files into batches and creates multiple zip archives.\n"
   ]
  },
  {
   "cell_type": "code",
   "execution_count": 8,
   "id": "7126c7b1",
   "metadata": {
    "ExecuteTime": {
     "end_time": "2022-07-08T08:11:24.893377Z",
     "start_time": "2022-07-08T08:10:29.252936Z"
    }
   },
   "outputs": [
    {
     "name": "stderr",
     "output_type": "stream",
     "text": [
      "Submitting input:   : 100%|███████████████████████| 2/2 [00:00<00:00,  3.60it/s]\n",
      "Converting input:   : 100%|███████████████████████| 2/2 [00:55<00:00, 27.50s/it]\n"
     ]
    }
   ],
   "source": [
    "# Process multiple urls\n",
    "\n",
    "PROJ_KEY=\"1234567890abcdefghijklmnopqrstvwyz123456\"\n",
    "documents = ds.convert_documents(api=api, \n",
    "                                 proj_key=PROJ_KEY, \n",
    "                                 urls=[\"https://arxiv.org/pdf/2206.00785.pdf\", \"https://arxiv.org/pdf/2206.01062.pdf\"], \n",
    "                                 progress_bar=True)"
   ]
  },
  {
   "cell_type": "code",
   "execution_count": 9,
   "id": "e630e1e3",
   "metadata": {
    "ExecuteTime": {
     "end_time": "2022-07-08T08:11:26.722061Z",
     "start_time": "2022-07-08T08:11:24.895953Z"
    }
   },
   "outputs": [
    {
     "name": "stderr",
     "output_type": "stream",
     "text": [
      "Downloading result: 100%|█████████████████████████| 1/1 [00:00<00:00,  2.52it/s]\n",
      "Downloading result: 100%|█████████████████████████| 1/1 [00:00<00:00,  2.59it/s]\n"
     ]
    }
   ],
   "source": [
    "# as before we can use the documents object to download all jsons. We can also iterate over them individually.\n",
    "for doc in documents:\n",
    "    #get url of converted document:\n",
    "    url_json = doc.url_json\n",
    "    #download individual json:\n",
    "    doc.download(result_dir=result_dir,progress_bar=True)"
   ]
  },
  {
   "cell_type": "code",
   "execution_count": 10,
   "id": "72a81849",
   "metadata": {
    "ExecuteTime": {
     "end_time": "2022-07-08T08:11:55.999850Z",
     "start_time": "2022-07-08T08:11:26.724957Z"
    }
   },
   "outputs": [
    {
     "name": "stderr",
     "output_type": "stream",
     "text": [
      "Processing input:   : 100%|██████████████████████| 1/1 [00:00<00:00, 162.49it/s]\n",
      "Submitting input:   : 100%|███████████████████████| 1/1 [00:03<00:00,  3.25s/it]\n",
      "Converting input:   : 100%|███████████████████████| 1/1 [00:25<00:00, 25.80s/it]\n"
     ]
    }
   ],
   "source": [
    "# Process local file\n",
    "\n",
    "PROJ_KEY=\"1234567890abcdefghijklmnopqrstvwyz123456\"\n",
    "documents = ds.convert_documents(api=api, \n",
    "                                 proj_key=PROJ_KEY, \n",
    "                                 source_path=\"/Users/mis/Downloads/IEEE_CLOUD_2022_paper_20.pdf\", \n",
    "                                 progress_bar=True)"
   ]
  },
  {
   "cell_type": "code",
   "execution_count": 11,
   "id": "7dc33e5d",
   "metadata": {
    "ExecuteTime": {
     "end_time": "2022-07-08T08:12:48.383694Z",
     "start_time": "2022-07-08T08:11:56.002000Z"
    }
   },
   "outputs": [
    {
     "name": "stderr",
     "output_type": "stream",
     "text": [
      "Processing input:   : 100%|███████████████████████| 2/2 [00:00<00:00, 47.74it/s]\n",
      "Submitting input:   : 100%|███████████████████████| 2/2 [00:06<00:00,  3.37s/it]\n",
      "Converting input:   : 100%|███████████████████████| 2/2 [00:45<00:00, 22.71s/it]\n"
     ]
    }
   ],
   "source": [
    "# Process folder of files\n",
    "\n",
    "PROJ_KEY=\"1234567890abcdefghijklmnopqrstvwyz123456\"\n",
    "documents = ds.convert_documents(api=api, \n",
    "                                 proj_key=PROJ_KEY, \n",
    "                                 source_path=\"/Users/mis/LM/Documents/pdf_docs/test/\", \n",
    "                                 progress_bar=True)"
   ]
  },
  {
   "cell_type": "code",
   "execution_count": 12,
   "id": "03d11356",
   "metadata": {
    "ExecuteTime": {
     "end_time": "2022-07-08T08:12:48.425486Z",
     "start_time": "2022-07-08T08:12:48.388300Z"
    }
   },
   "outputs": [
    {
     "name": "stdout",
     "output_type": "stream",
     "text": [
      "{'Total files (pdf+zip)': 3, 'Total batches': 2, 'Successfully converted batches': 2}\n"
     ]
    }
   ],
   "source": [
    "info = documents.generate_report(result_dir)\n",
    "print(info)"
   ]
  },
  {
   "cell_type": "code",
   "execution_count": null,
   "id": "192ea2e7",
   "metadata": {},
   "outputs": [],
   "source": []
  },
  {
   "cell_type": "code",
   "execution_count": null,
   "id": "e7c95bea",
   "metadata": {},
   "outputs": [],
   "source": []
  }
 ],
 "metadata": {
  "kernelspec": {
   "display_name": "Python 3 (ipykernel)",
   "language": "python",
   "name": "python3"
  },
  "language_info": {
   "codemirror_mode": {
    "name": "ipython",
    "version": 3
   },
   "file_extension": ".py",
   "mimetype": "text/x-python",
   "name": "python",
   "nbconvert_exporter": "python",
   "pygments_lexer": "ipython3",
   "version": "3.10.4"
  },
  "toc": {
   "base_numbering": 1,
   "nav_menu": {},
   "number_sections": true,
   "sideBar": true,
   "skip_h1_title": false,
   "title_cell": "Table of Contents",
   "title_sidebar": "Contents",
   "toc_cell": false,
   "toc_position": {},
   "toc_section_display": true,
   "toc_window_display": false
  }
 },
 "nbformat": 4,
 "nbformat_minor": 5
}
