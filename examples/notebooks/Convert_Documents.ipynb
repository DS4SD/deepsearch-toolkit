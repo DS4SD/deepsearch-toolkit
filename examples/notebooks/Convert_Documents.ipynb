{
 "cells": [
  {
   "cell_type": "code",
   "execution_count": 1,
   "id": "502cdef8",
   "metadata": {},
   "outputs": [],
   "source": [
    "import json\n",
    "import deepsearch as ds"
   ]
  },
  {
   "cell_type": "markdown",
   "id": "0431ea2c",
   "metadata": {},
   "source": [
    "## Authentication\n",
    "\n",
    "In this example, we initialize the Deep Search client from the credentials\n",
    "contained in the file `cps-auth.json`."
   ]
  },
  {
   "cell_type": "code",
   "execution_count": 2,
   "id": "0e5d3ca1",
   "metadata": {},
   "outputs": [],
   "source": [
    "auth_filename = \"cps-auth.json\" # this file should be populated with the credentials\n",
    "auth_data = json.load(open(auth_filename))\n",
    "\n",
    "auth = ds.DeepSearchKeyAuth(\n",
    "    username=auth_data[\"email\"],\n",
    "    api_key=auth_data[\"api_key\"],\n",
    ")\n",
    "\n",
    "config = ds.DeepSearchConfig(\n",
    "    # the host of the Deep Search instance you are using\n",
    "    host=\"https://deepsearch-experience.res.ibm.com\",\n",
    "\n",
    "    # if needed, the validation of the SSL certificate can be avoided\n",
    "    #verify_ssl=True, \n",
    "\n",
    "    # auth credentials\n",
    "    auth=auth,\n",
    ")\n",
    "\n",
    "client = ds.CpsApiClient(config)\n",
    "api = ds.CpsApi(client)"
   ]
  },
  {
   "cell_type": "markdown",
   "id": "5f09bbd4",
   "metadata": {},
   "source": [
    "## Convert your first file\n",
    "\n",
    "\n",
    "In the next block we convert our first document. As an input, we use a URL to a PDF file.\n"
   ]
  },
  {
   "cell_type": "code",
   "execution_count": 3,
   "id": "c61d9bdb",
   "metadata": {},
   "outputs": [
    {
     "name": "stderr",
     "output_type": "stream",
     "text": [
      "Submitting input:   : 100%|██████████████████████████████████████████████████████████████████████████████████████████████████████████████████████████████████████████████████████████████████████████| 1/1 [00:01<00:00,  1.29s/it]\n",
      "Converting input:   : 100%|██████████████████████████████████████████████████████████████████████████████████████████████████████████████████████████████████████████████████████████████████████████| 1/1 [00:24<00:00, 24.55s/it]\n",
      "Downloading result: 100%|████████████████████████████████████████████████████████████████████████████████████████████████████████████████████████████████████████████████████████████████████████████| 1/1 [00:01<00:00,  1.55s/it]"
     ]
    },
    {
     "name": "stdout",
     "output_type": "stream",
     "text": [
      "\n",
      "Total online documents:            0001\n",
      "Successfully converted documents:  0001(100%)\n",
      "Run time:                          28.20 seconds\n"
     ]
    },
    {
     "name": "stderr",
     "output_type": "stream",
     "text": [
      "\n"
     ]
    }
   ],
   "source": [
    "PROJ_KEY=\"1234567890abcdefghijklmnopqrstvwyz123456\"\n",
    "documents = ds.convert_documents(api=api, proj_key=PROJ_KEY, url=\"https://arxiv.org/pdf/2206.00785.pdf\")"
   ]
  },
  {
   "cell_type": "code",
   "execution_count": 4,
   "id": "2dc1847e",
   "metadata": {},
   "outputs": [],
   "source": [
    "# TODO: Do something with documents\n"
   ]
  },
  {
   "cell_type": "markdown",
   "id": "535456af",
   "metadata": {},
   "source": [
    "## More convert options\n",
    "\n",
    "The Deep Search toolkit provides helper functions which can convert documents from different type of inputs.\n",
    "\n",
    "- From a single url\n",
    "- From a list of urls. In this case, the toolkit will launch a batch processing with all tasks.\n",
    "- From a local PDF file\n",
    "- From a local zip archive containing PDF files.\n",
    "- From a local local folder containing PDF files. In this case, the toolkit is packaging the files into batches and creates multiple zip archives.\n"
   ]
  },
  {
   "cell_type": "code",
   "execution_count": 5,
   "id": "7126c7b1",
   "metadata": {},
   "outputs": [
    {
     "name": "stderr",
     "output_type": "stream",
     "text": [
      "Submitting input:   : 100%|██████████████████████████████████████████████████████████████████████████████████████████████████████████████████████████████████████████████████████████████████████████| 2/2 [00:01<00:00,  1.11it/s]\n",
      "Converting input:   : 100%|██████████████████████████████████████████████████████████████████████████████████████████████████████████████████████████████████████████████████████████████████████████| 2/2 [00:52<00:00, 26.30s/it]\n",
      "Downloading result: 100%|████████████████████████████████████████████████████████████████████████████████████████████████████████████████████████████████████████████████████████████████████████████| 2/2 [00:03<00:00,  1.53s/it]"
     ]
    },
    {
     "name": "stdout",
     "output_type": "stream",
     "text": [
      "\n",
      "Total online documents:            0002\n",
      "Successfully converted documents:  0002(100%)\n",
      "Run time:                          58.49 seconds\n"
     ]
    },
    {
     "name": "stderr",
     "output_type": "stream",
     "text": [
      "\n"
     ]
    }
   ],
   "source": [
    "# Process multiple urls\n",
    "\n",
    "PROJ_KEY=\"1234567890abcdefghijklmnopqrstvwyz123456\"\n",
    "documents = ds.convert_documents(api=api, proj_key=PROJ_KEY, url=[\"https://arxiv.org/pdf/2206.00785.pdf\", \"https://arxiv.org/pdf/2206.01062.pdf\"])"
   ]
  },
  {
   "cell_type": "code",
   "execution_count": 6,
   "id": "72a81849",
   "metadata": {},
   "outputs": [
    {
     "name": "stderr",
     "output_type": "stream",
     "text": [
      "Processing input:   : 100%|█████████████████████████████████████████████████████████████████████████████████████████████████████████████████████████████████████████████████████████████████████████| 1/1 [00:00<00:00, 258.46it/s]\n",
      "Submitting input:   : 100%|██████████████████████████████████████████████████████████████████████████████████████████████████████████████████████████████████████████████████████████████████████████| 1/1 [00:02<00:00,  2.46s/it]\n",
      "Converting input:   : 100%|██████████████████████████████████████████████████████████████████████████████████████████████████████████████████████████████████████████████████████████████████████████| 1/1 [00:55<00:00, 55.90s/it]\n",
      "Downloading result: 100%|████████████████████████████████████████████████████████████████████████████████████████████████████████████████████████████████████████████████████████████████████████████| 1/1 [00:01<00:00,  1.37s/it]"
     ]
    },
    {
     "name": "stdout",
     "output_type": "stream",
     "text": [
      "\n",
      "Total files (pdf+zip):             0001\n",
      "Total batches:                     0001\n",
      "Successfully converted batches:    0001(100%)\n",
      "Run time:                          1.02 minutes\n"
     ]
    },
    {
     "name": "stderr",
     "output_type": "stream",
     "text": [
      "\n"
     ]
    }
   ],
   "source": [
    "# Process local file\n",
    "\n",
    "PROJ_KEY=\"1234567890abcdefghijklmnopqrstvwyz123456\"\n",
    "documents = ds.convert_documents(api=api, proj_key=PROJ_KEY, local_file=\"/Users/dol/Downloads/redbooks-xsmall/redp5004.pdf\")"
   ]
  },
  {
   "cell_type": "code",
   "execution_count": 7,
   "id": "7dc33e5d",
   "metadata": {},
   "outputs": [
    {
     "name": "stderr",
     "output_type": "stream",
     "text": [
      "Processing input:   : 100%|█████████████████████████████████████████████████████████████████████████████████████████████████████████████████████████████████████████████████████████████████████████| 2/2 [00:00<00:00, 349.58it/s]\n",
      "Submitting input:   : 100%|██████████████████████████████████████████████████████████████████████████████████████████████████████████████████████████████████████████████████████████████████████████| 1/1 [00:03<00:00,  3.58s/it]\n",
      "Converting input:   : 100%|██████████████████████████████████████████████████████████████████████████████████████████████████████████████████████████████████████████████████████████████████████████| 1/1 [01:09<00:00, 69.69s/it]\n",
      "Downloading result: : 2it [00:03,  1.59s/it]                                                                                                                                                                                       "
     ]
    },
    {
     "name": "stdout",
     "output_type": "stream",
     "text": [
      "\n",
      "Total files (pdf+zip):             0002\n",
      "Total batches:                     0001\n",
      "Successfully converted batches:    0001(100%)\n",
      "Run time:                          1.29 minutes\n"
     ]
    },
    {
     "name": "stderr",
     "output_type": "stream",
     "text": [
      "\n"
     ]
    }
   ],
   "source": [
    "# Process folder of files\n",
    "\n",
    "PROJ_KEY=\"1234567890abcdefghijklmnopqrstvwyz123456\"\n",
    "documents = ds.convert_documents(api=api, proj_key=PROJ_KEY, local_file=\"/Users/dol/Downloads/redbooks-xsmall\")"
   ]
  },
  {
   "cell_type": "code",
   "execution_count": null,
   "id": "03d11356",
   "metadata": {},
   "outputs": [],
   "source": []
  }
 ],
 "metadata": {
  "kernelspec": {
   "display_name": "Python 3 (ipykernel)",
   "language": "python",
   "name": "python3"
  },
  "language_info": {
   "codemirror_mode": {
    "name": "ipython",
    "version": 3
   },
   "file_extension": ".py",
   "mimetype": "text/x-python",
   "name": "python",
   "nbconvert_exporter": "python",
   "pygments_lexer": "ipython3",
   "version": "3.10.2"
  }
 },
 "nbformat": 4,
 "nbformat_minor": 5
}
